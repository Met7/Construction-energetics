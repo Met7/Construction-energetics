{
 "cells": [
  {
   "cell_type": "code",
   "execution_count": 67,
   "id": "e889e27f-1851-4d13-8b65-8a844de42e1c",
   "metadata": {},
   "outputs": [
    {
     "name": "stdout",
     "output_type": "stream",
     "text": [
      "Conversion complete!\n"
     ]
    }
   ],
   "source": [
    "import pandas as pd\n",
    "import json\n",
    "\n",
    "# Load the CSV data\n",
    "#csv_file_path = 'c:/Users/domin/Downloads/construction_costs.csv'\n",
    "csv_file_path = 'c:/Users/domin/Downloads/Project Data - BC.csv'\n",
    "\n",
    "df = pd.read_csv(csv_file_path, keep_default_na=False)\n",
    "\n",
    "# Convert the dataframe to JSON format\n",
    "data = df.to_dict(orient='records')\n",
    "\n",
    "# only what should be included in the sw\n",
    "data = [v for v in data if v[\"In SW\"] == \"1\"]\n",
    "\n",
    "valid_units = [\"t\", \"m2\", \"m3\", \"unit\"]\n",
    "\n",
    "# Organize data by authors and stage\n",
    "authors_data = {}\n",
    "all_authors = set()  # Use a set to collect unique author names\n",
    "for record in data:\n",
    "    authors = record['Author'].split(', ')\n",
    "    for author in authors:\n",
    "        author = author.strip()\n",
    "        all_authors.add(author)  # Add author to the set\n",
    "        if author not in authors_data:\n",
    "            authors_data[author] = {}\n",
    "        if record['Stage'] not in authors_data[author]:\n",
    "            authors_data[author][record['Stage']] = []\n",
    "        \n",
    "        # Append the record to the appropriate author and stage\n",
    "        new_record = {\n",
    "            \"id\": record['id'],\n",
    "            \"material_category\": record['Material cat'],\n",
    "            \"material\": record['Material'],\n",
    "            \"approach\": record['Approach'],\n",
    "            \"tool\": record['Tool'],\n",
    "            \"description\": record['Description'],\n",
    "            \"unit\": record['Unit'],\n",
    "            \"rate\": record['mh/unit'],\n",
    "            \"locality\": record['Locality'],\n",
    "            \"tech_note\": record['Tech note'],\n",
    "            \"author\": author,\n",
    "            \"year\": record['Year'],\n",
    "            \"pages\": record['Pages']\n",
    "        }\n",
    "        \n",
    "        if \"Formula\" in record and record[\"Formula\"]:\n",
    "            new_record[\"formula\"] = record[\"Formula\"]\n",
    "            new_record[\"input1_name\"] = record[\"Input1 name\"]\n",
    "            if (\"Param1\" in record and record[\"Param1\"]):\n",
    "                new_record[\"param1\"] = record[\"Param1\"]\n",
    "            \n",
    "        authors_data[author][record['Stage']].append(new_record);\n",
    "\n",
    "        if \"Conversions\" in record and record[\"Conversions\"]:\n",
    "            #print(\"conversion \" + record[\"Conversions\"])\n",
    "            new_conversions = {}\n",
    "            conversions = record[\"Conversions\"].replace(\"; \", \";\").split(\";\")\n",
    "            for conversion in conversions:\n",
    "                value, unit = conversion.split(\" \")\n",
    "                to_unit, from_unit = unit.split(\"/\")\n",
    "                #print(from_unit + \" \" + to_unit)\n",
    "                assert isinstance(from_unit, str)\n",
    "                assert isinstance(to_unit, str)                \n",
    "                assert from_unit in valid_units\n",
    "                assert to_unit in valid_units\n",
    "                new_conversions[to_unit] = float(value)\n",
    "            new_record[\"conversions\"] = new_conversions\n",
    "        \n",
    "\n",
    "# Save JSON files for each author\n",
    "for author, stages in authors_data.items():\n",
    "    file_name = f'{author.replace(\" \", \"_\")}.json'\n",
    "    with open(file_name, 'w') as f:\n",
    "        json.dump({\"technologies\": stages}, f, indent=4)\n",
    "\n",
    "# Save the list of authors to file-list.json\n",
    "file_list = sorted(all_authors)  # Sort the authors list for consistency\n",
    "with open('file-list.json', 'w') as f:\n",
    "    json.dump({\"file-list\": file_list}, f, indent=4)\n",
    "\n",
    "print(\"Conversion complete!\")"
   ]
  },
  {
   "cell_type": "code",
   "execution_count": 69,
   "id": "7bb9f300-7efc-45c4-ae99-23d6ae618ca1",
   "metadata": {},
   "outputs": [
    {
     "name": "stdout",
     "output_type": "stream",
     "text": [
      "Conversion complete!\n"
     ]
    }
   ],
   "source": [
    "output_folder = 'C:/Users/domin/OneDrive/Documents/_Real Documents/Škola/Bakalarka/Rebex server/Construction-energetics/data/technologies/new/'\n",
    "# Save JSON files for each author\n",
    "for author, stages in authors_data.items():\n",
    "    #file_name = f'{output_folder + author.replace(\" \", \"_\").replace(\",\", \"\")}.json'\n",
    "    file_name = f'{output_folder + author.replace(\" \", \"_\")}.json'\n",
    "    with open(file_name, 'w') as f:\n",
    "        json.dump({\"technologies\": stages}, f, indent=4)\n",
    "\n",
    "# Save the list of authors to file-list.json\n",
    "file_list = sorted(all_authors)  # Sort the authors list for consistency\n",
    "with open(output_folder + 'file-list.json', 'w') as f:\n",
    "    json.dump({\"file-list\": file_list}, f, indent=4)\n",
    "\n",
    "print(\"Conversion complete!\")"
   ]
  },
  {
   "cell_type": "code",
   "execution_count": null,
   "id": "830a9827-5de9-4dea-ac56-629dba228629",
   "metadata": {},
   "outputs": [],
   "source": []
  }
 ],
 "metadata": {
  "kernelspec": {
   "display_name": "Python 3 (ipykernel)",
   "language": "python",
   "name": "python3"
  },
  "language_info": {
   "codemirror_mode": {
    "name": "ipython",
    "version": 3
   },
   "file_extension": ".py",
   "mimetype": "text/x-python",
   "name": "python",
   "nbconvert_exporter": "python",
   "pygments_lexer": "ipython3",
   "version": "3.12.4"
  }
 },
 "nbformat": 4,
 "nbformat_minor": 5
}
